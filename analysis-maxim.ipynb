{
 "cells": [
  {
   "cell_type": "markdown",
   "id": "12daff07-7bf7-4df9-90ed-54bf99586111",
   "metadata": {},
   "source": [
    "# 0.0 Setup"
   ]
  },
  {
   "cell_type": "code",
   "execution_count": 1,
   "id": "67fc3dfd-3e74-41ae-97a9-522063a11107",
   "metadata": {},
   "outputs": [],
   "source": [
    "import pandas as pd\n",
    "import matplotlib.pyplot as plt"
   ]
  },
  {
   "cell_type": "code",
   "execution_count": 2,
   "id": "0e0ab7f0-5830-4823-9b17-b3cd5def510b",
   "metadata": {},
   "outputs": [
    {
     "name": "stdout",
     "output_type": "stream",
     "text": [
      "id                                    int64\n",
      "Locality                              int64\n",
      "Type of property                     object\n",
      "Subtype of property                  object\n",
      "Price                                 int64\n",
      "Type of sale                         object\n",
      "Number of rooms                       int64\n",
      "Living Area                         float64\n",
      "Fully equipped kitchen              float64\n",
      "Furnished                           float64\n",
      "Fireplace                             int64\n",
      "Terrace                             float64\n",
      "Terrace area                        float64\n",
      "Garden                              float64\n",
      "Garden area                         float64\n",
      "Surface of the land                 float64\n",
      "Surface area of the plot of land    float64\n",
      "Number of facades                   float64\n",
      "Swimming pool                       float64\n",
      "State of the building                object\n",
      "Compound Listing                     object\n",
      "dtype: object\n"
     ]
    }
   ],
   "source": [
    "df = pd.read_csv('./Data/Immoweb_scraping_result.csv')\n",
    "print(df.dtypes)"
   ]
  },
  {
   "cell_type": "markdown",
   "id": "de3bf36e-5d56-488e-ae9b-a70f8b07cdee",
   "metadata": {},
   "source": [
    "# 2.6.1 : How many qualitative and quantitative variables are there?\n",
    "\n",
    "The columns are considered quantitative if they are assigned a value from a discrete set. For example 'Locality' is a categorical variable because every entry comes from a discrete (finite) set of codes."
   ]
  },
  {
   "cell_type": "code",
   "execution_count": 3,
   "id": "cbab17eb-bbcd-4965-8fc8-97a2d7f19b3d",
   "metadata": {},
   "outputs": [
    {
     "name": "stdout",
     "output_type": "stream",
     "text": [
      "The dataset contains a total of 21 columns and 15516 rows.\n",
      "Out of the 21 columns 8 are quantitative variables.\n",
      "Out of the 21 columns 13 are qualitative variables.\n"
     ]
    }
   ],
   "source": [
    "# How many quantitavie and qualitative variables are there?\n",
    "quantitative_columns = ['Price', 'Number_of_rooms', 'Living_Area', 'Terrace_area', 'Garden_area', 'Surface_of_the_land'\\\n",
    "                       , 'Surface_area_of_the_plot_of_land', 'Number_of_facades']\n",
    "qualitative_columns = ['id', 'Locality', 'Type of property', 'Subtype of property', 'Type of sale', 'Fully equipped kitchen', 'Furnished',\\\n",
    "                       'Fireplace', 'Terrace', 'Garden', 'Swimming pool', 'State of the building', 'Compound Listing']\n",
    "\n",
    "print(f'The dataset contains a total of {len(df.columns)} columns and {df.shape[0]} rows.')\n",
    "print(f'Out of the {len(df.columns)} columns {len(quantitative_columns)} are quantitative variables.')\n",
    "print(f'Out of the {len(df.columns)} columns {len(qualitative_columns)} are qualitative variables.')"
   ]
  },
  {
   "cell_type": "code",
   "execution_count": 4,
   "id": "a1ae91a2-4fc8-4510-a79c-e3edff7ff9ab",
   "metadata": {},
   "outputs": [
    {
     "data": {
      "image/png": "[encoded data removed]",
      "text/plain": [
       "<Figure size 640x480 with 1 Axes>"
      ]
     },
     "metadata": {},
     "output_type": "display_data"
    }
   ],
   "source": [
    "variables = ['quantitative', 'qualitative']\n",
    "counts = [len(quantitative_columns), len(qualitative_columns)]\n",
    "fig, ax = plt.subplots()\n",
    "ax.bar(variables, counts, color=['blue', 'red'])\n",
    "ax.set_ylabel('Column count')\n",
    "ax.set_title('Number of quant/qual features')\n",
    "plt.show()"
   ]
  },
  {
   "cell_type": "markdown",
   "id": "46ca394b-a2ea-4eb0-b027-002508dfd5a4",
   "metadata": {},
   "source": [
    "# 2.6.2 How would you transform these values into numerical values?\n",
    "\n",
    "There are two popular ways of doing this: using an ordinal encoding, and using a one-hot encoding. Ordinal encoding assigns a unique integer to every category. One hot encoding creates a binary feature for every category. Both have their advantages and disadvantages:\n",
    "\n",
    "- One hot encoding creates extra features making any model fitting more expensive.\n",
    "- Oridnal encoding can suffer a small accuracy loss in shallow models.\n",
    "\n",
    "Some columns in the dataset have already been transformed during cleaning, or some categorical columns (like 'id' or 'Locality') are already in integer form."
   ]
  },
  {
   "cell_type": "code",
   "execution_count": 5,
   "id": "7a8e00d0-5dde-403a-a065-910ccd29aba7",
   "metadata": {},
   "outputs": [],
   "source": [
    "def ordinalEncode(entry, categories):\n",
    "    for index, category in enumerate(categories):\n",
    "        if entry == category:\n",
    "            return index\n",
    "\n",
    "\n",
    "def onehotEncode(entry, categories):\n",
    "    pass"
   ]
  },
  {
   "cell_type": "code",
   "execution_count": 6,
   "id": "7136a3b3-b338-43c4-bca1-c9ccd8ce3a63",
   "metadata": {},
   "outputs": [
    {
     "data": {
      "text/plain": [
       "Index(['id', 'Locality', 'Price', 'Number of rooms', 'Living Area',\n",
       "       'Fully equipped kitchen', 'Furnished', 'Fireplace', 'Terrace',\n",
       "       'Terrace area', 'Garden', 'Garden area', 'Surface of the land',\n",
       "       'Surface area of the plot of land', 'Number of facades',\n",
       "       'Swimming pool', 'APARTMENT', 'HOUSE', 'APARTMENT', 'APARTMENT_BLOCK',\n",
       "       'BUNGALOW', 'CASTLE', 'CHALET', 'COUNTRY_COTTAGE', 'DUPLEX',\n",
       "       'EXCEPTIONAL_PROPERTY', 'FARMHOUSE', 'FLAT_STUDIO', 'GROUND_FLOOR',\n",
       "       'HOUSE', 'KOT', 'LOFT', 'MANOR_HOUSE', 'MANSION', 'MIXED_USE_BUILDING',\n",
       "       'OTHER_PROPERTY', 'PENTHOUSE', 'SERVICE_FLAT', 'TOWN_HOUSE', 'TRIPLEX',\n",
       "       'VILLA', 'residential_sale', 'AS_NEW', 'GOOD', 'JUST_RENOVATED',\n",
       "       'TO_BE_DONE_UP', 'TO_RENOVATE', 'TO_RESTORE', 'compound', 'single'],\n",
       "      dtype='object')"
      ]
     },
     "execution_count": 6,
     "metadata": {},
     "output_type": "execute_result"
    }
   ],
   "source": [
    "# Column of the categorical variables that need to be encoded\n",
    "columns_to_be_encoded = ['Type of property', 'Subtype of property', 'Type of sale', 'State of the building', 'Compound Listing']\n",
    "\n",
    "# Make dataframe with odrinal encoding\n",
    "df1 = df.copy()\n",
    "for column in columns_to_be_encoded:\n",
    "    df1[column] = df[column].apply(lambda el: ordinalEncode(el, df[column].unique()))\n",
    "    \n",
    "# Make dataframe with one-hot encoding\n",
    "df2 = df.copy()\n",
    "for column in columns_to_be_encoded:\n",
    "    dummy_data = pd.get_dummies(df[column])\n",
    "    df2 = pd.concat([df2, dummy_data], axis=1)\n",
    "df2.drop(columns_to_be_encoded, axis=1, inplace=True)\n",
    "df2.columns"
   ]
  },
  {
   "cell_type": "code",
   "execution_count": 22,
   "id": "1c89f0bd-da39-47ac-9f9c-d7eb14c34d93",
   "metadata": {},
   "outputs": [
    {
     "name": "stdout",
     "output_type": "stream",
     "text": [
      "Shape of train and test data:  (15516, 20) (15516,)\n",
      "Score of a model where the data is using ordinalEncode:  0.024069269250834413\n",
      "Shape of train and test data:  (15516, 53) (15516,)\n",
      "Score of a model where the data is using onehotEncode:  -0.001369430606972477\n"
     ]
    }
   ],
   "source": [
    "from sklearn.neural_network import MLPRegressor\n",
    "from sklearn.model_selection import train_test_split\n",
    "\n",
    "HYPERPARAMS = {'hidden_layer_sizes': (100,), 'alpha': 1e-8, 'max_iter': 10000, 'random_state': 1, 'activation': 'relu'\\\n",
    "              ,'early_stopping': False}\n",
    "\n",
    "# Prepare dataset that uses oridinal encoding\n",
    "data = df1.fillna(0)\n",
    "X = data[[col for col in data.columns if col != 'Price']] #Price will be the target variable\n",
    "Y = data['Price']\n",
    "print(\"Shape of train and test data: \", X.shape, Y.shape)\n",
    "X_train, X_test, Y_train, Y_test = train_test_split(X, Y, random_state=1)\n",
    "\n",
    "\n",
    "# Train model on data encoded using ordinalEncoding\n",
    "model = MLPRegressor(**HYPERPARAMS).fit(X_train, Y_train)\n",
    "score = model.score(X_test, Y_test)\n",
    "print(\"Score of a model where the data is using ordinalEncode: \", score)\n",
    "\n",
    "# Prepare dataset that uses oridinal encoding\n",
    "data = df2.fillna(0)\n",
    "X = data[[col for col in data.columns if col != 'Price']] #Price will be the target variable\n",
    "Y = data['Price']\n",
    "print(\"Shape of train and test data: \", X.shape, Y.shape)\n",
    "X_train, X_test, Y_train, Y_test = train_test_split(X, Y, random_state=1)\n",
    "\n",
    "# Train model on data encoded using onehotEncoding\n",
    "model = MLPRegressor(**HYPERPARAMS).fit(X_train, Y_train)\n",
    "score = model.score(X_test, Y_test)\n",
    "print(\"Score of a model where the data is using onehotEncode: \", score)"
   ]
  },
  {
   "cell_type": "markdown",
   "id": "6cb328d8-a920-4f4d-bab9-cf881ec1c2f5",
   "metadata": {},
   "source": [
    "# 2.7 What is the percentage of missing values per column?"
   ]
  },
  {
   "cell_type": "code",
   "execution_count": null,
   "id": "1f194ebe-a33f-44bb-b613-a81fe7dfb2fd",
   "metadata": {},
   "outputs": [],
   "source": []
  }
 ],
 "metadata": {
  "kernelspec": {
   "display_name": "ImmoAnalysisKernel",
   "language": "python",
   "name": "immoanalysiskernel"
  },
  "language_info": {
   "codemirror_mode": {
    "name": "ipython",
    "version": 3
   },
   "file_extension": ".py",
   "mimetype": "text/x-python",
   "name": "python",
   "nbconvert_exporter": "python",
   "pygments_lexer": "ipython3",
   "version": "3.12.3"
  }
 },
 "nbformat": 4,
 "nbformat_minor": 5
}
